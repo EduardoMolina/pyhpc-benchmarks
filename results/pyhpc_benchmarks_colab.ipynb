{
  "nbformat": 4,
  "nbformat_minor": 0,
  "metadata": {
    "colab": {
      "name": "pyhpc-benchmarks-colab.ipynb",
      "provenance": [],
      "collapsed_sections": []
    },
    "kernelspec": {
      "name": "python3",
      "display_name": "Python 3"
    },
    "accelerator": "TPU"
  },
  "cells": [
    {
      "cell_type": "markdown",
      "metadata": {
        "id": "A_5C1IvdfxkF"
      },
      "source": [
        "#pyhpc-benchmarks @ Google Colab\n",
        "\n",
        "To run all benchmarks, you need to switch the runtime type to match the corresponding section (CPU, TPU, GPU)."
      ]
    },
    {
      "cell_type": "code",
      "metadata": {
        "id": "TTViNK-9OfRJ"
      },
      "source": [
        "!rm -rf pyhpc-benchmarks; git clone https://github.com/dionhaefner/pyhpc-benchmarks.git"
      ],
      "execution_count": null,
      "outputs": []
    },
    {
      "cell_type": "code",
      "metadata": {
        "id": "Eyc45XkjQB1X"
      },
      "source": [
        "%cd pyhpc-benchmarks"
      ],
      "execution_count": null,
      "outputs": []
    },
    {
      "cell_type": "code",
      "metadata": {
        "id": "RbM7XH04MwFA"
      },
      "source": [
        "# check CPU model\n",
        "!lscpu |grep 'Model name'"
      ],
      "execution_count": null,
      "outputs": []
    },
    {
      "cell_type": "markdown",
      "metadata": {
        "id": "cK3jm6V_P4pB"
      },
      "source": [
        "## CPU"
      ]
    },
    {
      "cell_type": "code",
      "metadata": {
        "id": "exG5HvsIQtyE"
      },
      "source": [
        "!pip install -U -q numba aesara"
      ],
      "execution_count": null,
      "outputs": []
    },
    {
      "cell_type": "code",
      "metadata": {
        "id": "tD19gJ_-QAiZ"
      },
      "source": [
        "!taskset -c 0 python run.py benchmarks/equation_of_state/"
      ],
      "execution_count": null,
      "outputs": []
    },
    {
      "cell_type": "code",
      "metadata": {
        "id": "NYykl19BWfQI"
      },
      "source": [
        "!taskset -c 0 python run.py benchmarks/isoneutral_mixing/"
      ],
      "execution_count": null,
      "outputs": []
    },
    {
      "cell_type": "code",
      "metadata": {
        "id": "zf2RaRlPXpM6"
      },
      "source": [
        "!taskset -c 0 python run.py benchmarks/turbulent_kinetic_energy/"
      ],
      "execution_count": null,
      "outputs": []
    },
    {
      "cell_type": "markdown",
      "metadata": {
        "id": "oOIzGKsPP0ui"
      },
      "source": [
        "## TPU\n",
        "\n",
        "Make sure to set accelerator to \"TPU\" before executing this."
      ]
    },
    {
      "cell_type": "code",
      "metadata": {
        "id": "JHOxWXecn3kx"
      },
      "source": [
        "import jax.tools.colab_tpu\n",
        "jax.tools.colab_tpu.setup_tpu()"
      ],
      "execution_count": null,
      "outputs": []
    },
    {
      "cell_type": "code",
      "metadata": {
        "id": "9-tQlcfZOzm0"
      },
      "source": [
        "!python run.py benchmarks/equation_of_state -b jax -b numpy --device tpu"
      ],
      "execution_count": null,
      "outputs": []
    },
    {
      "cell_type": "code",
      "metadata": {
        "id": "rKcTVbiVPXFu"
      },
      "source": [
        "!python run.py benchmarks/isoneutral_mixing -b jax -b numpy --device tpu"
      ],
      "execution_count": null,
      "outputs": []
    },
    {
      "cell_type": "code",
      "metadata": {
        "id": "gfIlTgZol9OA"
      },
      "source": [
        "!python run.py benchmarks/turbulent_kinetic_energy -b jax -b numpy --device tpu"
      ],
      "execution_count": null,
      "outputs": []
    },
    {
      "cell_type": "markdown",
      "metadata": {
        "id": "RDoapE1YPrpN"
      },
      "source": [
        "## GPU\n",
        "\n",
        "Make sure to set accelerator to \"GPU\" before executing this."
      ]
    },
    {
      "cell_type": "code",
      "metadata": {
        "id": "b4CQKseuMnzE"
      },
      "source": [
        "# get GPU model\n",
        "!nvidia-smi -L"
      ],
      "execution_count": null,
      "outputs": []
    },
    {
      "cell_type": "code",
      "metadata": {
        "id": "Azo78zrdo88Y"
      },
      "source": [
        "!for backend in jax tensorflow pytorch cupy; do python run.py benchmarks/equation_of_state/ --device gpu -b $backend -b numpy; done"
      ],
      "execution_count": null,
      "outputs": []
    },
    {
      "cell_type": "code",
      "metadata": {
        "id": "Ps8zEacsPWQW"
      },
      "source": [
        "!for backend in jax pytorch cupy; do python run.py benchmarks/isoneutral_mixing/ --device gpu -b $backend -b numpy; done"
      ],
      "execution_count": null,
      "outputs": []
    },
    {
      "cell_type": "code",
      "metadata": {
        "id": "ogXoFxFAd0KI"
      },
      "source": [
        "!for backend in jax pytorch; do python run.py benchmarks/turbulent_kinetic_energy/ --device gpu -b $backend -b numpy; done"
      ],
      "execution_count": null,
      "outputs": []
    }
  ]
}