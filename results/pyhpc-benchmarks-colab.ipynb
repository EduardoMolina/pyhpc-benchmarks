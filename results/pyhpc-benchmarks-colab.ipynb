{
 "nbformat": 4,
 "nbformat_minor": 0,
 "metadata": {
  "colab": {
   "name": "pyhpc-benchmarks.ipynb",
   "provenance": [],
   "collapsed_sections": []
  },
  "kernelspec": {
   "name": "python3",
   "display_name": "Python 3"
  },
  "accelerator": "GPU"
 },
 "cells": [
  {
   "cell_type": "markdown",
   "metadata": {
    "id": "A_5C1IvdfxkF",
    "colab_type": "text"
   },
   "source": [
    "#pyhpc-benchmarks @ Google Colab\n",
    "\n",
    "To run all benchmarks, you need to switch the runtime type to match the corresponding section (CPU, TPU, GPU)."
   ]
  },
  {
   "cell_type": "code",
   "metadata": {
    "id": "TTViNK-9OfRJ",
    "colab_type": "code",
    "colab": {}
   },
   "source": [
    "!rm -rf pyhpc-benchmarks; git clone https://github.com/dionhaefner/pyhpc-benchmarks.git"
   ],
   "execution_count": 0,
   "outputs": []
  },
  {
   "cell_type": "code",
   "metadata": {
    "id": "Eyc45XkjQB1X",
    "colab_type": "code",
    "colab": {}
   },
   "source": [
    "%cd pyhpc-benchmarks"
   ],
   "execution_count": 0,
   "outputs": []
  },
  {
   "cell_type": "code",
   "metadata": {
    "id": "RbM7XH04MwFA",
    "colab_type": "code",
    "colab": {}
   },
   "source": [
    "# check CPU model\n",
    "!lscpu |grep 'Model name'"
   ],
   "execution_count": 0,
   "outputs": []
  },
  {
   "cell_type": "markdown",
   "metadata": {
    "id": "cK3jm6V_P4pB",
    "colab_type": "text"
   },
   "source": [
    "## CPU"
   ]
  },
  {
   "cell_type": "code",
   "metadata": {
    "id": "exG5HvsIQtyE",
    "colab_type": "code",
    "colab": {}
   },
   "source": [
    "!pip install -U -q numba jax tensorflow theano"
   ],
   "execution_count": 0,
   "outputs": []
  },
  {
   "cell_type": "code",
   "metadata": {
    "id": "tD19gJ_-QAiZ",
    "colab_type": "code",
    "colab": {}
   },
   "source": [
    "!taskset -c 0 python run.py benchmarks/equation_of_state/"
   ],
   "execution_count": 0,
   "outputs": []
  },
  {
   "cell_type": "code",
   "metadata": {
    "id": "NYykl19BWfQI",
    "colab_type": "code",
    "colab": {}
   },
   "source": [
    "!taskset -c 0 python run.py benchmarks/isoneutral_mixing/"
   ],
   "execution_count": 0,
   "outputs": []
  },
  {
   "cell_type": "code",
   "metadata": {
    "id": "zf2RaRlPXpM6",
    "colab_type": "code",
    "colab": {}
   },
   "source": [
    "!taskset -c 0 python run.py benchmarks/turbulent_kinetic_energy/"
   ],
   "execution_count": 0,
   "outputs": []
  },
  {
   "cell_type": "markdown",
   "metadata": {
    "id": "oOIzGKsPP0ui",
    "colab_type": "text"
   },
   "source": [
    "## TPU\n",
    "\n",
    "Make sure to set accelerator to \"TPU\" before executing this."
   ]
  },
  {
   "cell_type": "code",
   "metadata": {
    "id": "2b8eQrzyOqzI",
    "colab_type": "code",
    "colab": {}
   },
   "source": [
    "!pip install -U -q \"jax>=0.1.54\" \"jaxlib>=0.1.37\""
   ],
   "execution_count": 0,
   "outputs": []
  },
  {
   "cell_type": "code",
   "metadata": {
    "id": "FOIJzceOzeP_",
    "colab_type": "code",
    "colab": {}
   },
   "source": [
    "os.environ[\"JAX_BACKEND_TARGET\"] = \"grpc://\" + os.environ[\"COLAB_TPU_ADDR\"]\n",
    "os.environ[\"JAX_BACKEND_TARGET\"]"
   ],
   "execution_count": 0,
   "outputs": []
  },
  {
   "cell_type": "code",
   "metadata": {
    "id": "9-tQlcfZOzm0",
    "colab_type": "code",
    "colab": {}
   },
   "source": [
    "!python run.py benchmarks/equation_of_state -b jax -b numpy --device tpu"
   ],
   "execution_count": 0,
   "outputs": []
  },
  {
   "cell_type": "code",
   "metadata": {
    "id": "rKcTVbiVPXFu",
    "colab_type": "code",
    "colab": {}
   },
   "source": [
    "!python run.py benchmarks/isoneutral_mixing -b jax -b numpy --device tpu"
   ],
   "execution_count": 0,
   "outputs": []
  },
  {
   "cell_type": "code",
   "metadata": {
    "id": "gfIlTgZol9OA",
    "colab_type": "code",
    "colab": {}
   },
   "source": [
    "!python run.py benchmarks/turbulent_kinetic_energy -b jax -b numpy --device tpu"
   ],
   "execution_count": 0,
   "outputs": []
  },
  {
   "cell_type": "markdown",
   "metadata": {
    "id": "RDoapE1YPrpN",
    "colab_type": "text"
   },
   "source": [
    "## GPU\n",
    "\n",
    "Make sure to set accelerator to \"GPU\" before executing this."
   ]
  },
  {
   "cell_type": "code",
   "metadata": {
    "id": "b4CQKseuMnzE",
    "colab_type": "code",
    "colab": {}
   },
   "source": [
    "# get GPU model\n",
    "!nvidia-smi -L"
   ],
   "execution_count": 0,
   "outputs": []
  },
  {
   "cell_type": "code",
   "metadata": {
    "id": "mDwUCv2mKaPT",
    "colab_type": "code",
    "colab": {}
   },
   "source": [
    "!pip install -U -q jax tensorflow-gpu"
   ],
   "execution_count": 0,
   "outputs": []
  },
  {
   "cell_type": "code",
   "metadata": {
    "id": "Azo78zrdo88Y",
    "colab_type": "code",
    "colab": {}
   },
   "source": [
    "!for backend in jax tensorflow pytorch cupy; do CUDA_VISIBLE_DEVICES=\"0\" python run.py benchmarks/equation_of_state/ --device gpu -b $backend -b numpy; done"
   ],
   "execution_count": 0,
   "outputs": []
  },
  {
   "cell_type": "code",
   "metadata": {
    "id": "Ps8zEacsPWQW",
    "colab_type": "code",
    "colab": {}
   },
   "source": [
    "!for backend in jax pytorch cupy; do CUDA_VISIBLE_DEVICES=\"0\" python run.py benchmarks/isoneutral_mixing/ --device gpu -b $backend -b numpy; done"
   ],
   "execution_count": 0,
   "outputs": []
  },
  {
   "cell_type": "code",
   "metadata": {
    "id": "ogXoFxFAd0KI",
    "colab_type": "code",
    "colab": {}
   },
   "source": [
    "!CUDA_VISIBLE_DEVICES=\"0\" python run.py benchmarks/turbulent_kinetic_energy/ --device gpu -b jax -b numpy"
   ],
   "execution_count": 0,
   "outputs": []
  }
 ]
}